{
 "cells": [
  {
   "cell_type": "markdown",
   "metadata": {},
   "source": [
    "# Introduction\n",
    "An introduction to Python, including what it is, why learn it, and how to install it."
   ]
  },
  {
   "cell_type": "code",
   "execution_count": null,
   "metadata": {},
   "outputs": [],
   "source": [
    "\n",
    "# Introduction to Python\n",
    "\n",
    "# Explanation of what Python is\n",
    "# Python is a high-level, interpreted programming language that is widely used for web development, scientific computing, data analysis, artificial intelligence, and more.\n",
    "\n",
    "# Explanation of why learn Python\n",
    "# Python is a popular language because it is easy to learn, has a simple syntax, and has a large community of developers who contribute to its libraries and tools. It is also versatile and can be used for a wide range of applications.\n",
    "\n",
    "# Explanation of how to install Python\n",
    "# To install Python, go to the official Python website and download the latest version of Python for your operating system. Follow the installation instructions provided by the installer. Once installed, you can run Python from the command line or by using an integrated development environment (IDE) such as PyCharm or Jupyter Notebook.\n",
    "\n"
   ]
  },
  {
   "cell_type": "markdown",
   "metadata": {},
   "source": [
    "# Python Syntax\n",
    "An overview of Python syntax, including basic syntax rules, comments, statements, and example code."
   ]
  },
  {
   "cell_type": "code",
   "execution_count": null,
   "metadata": {},
   "outputs": [],
   "source": [
    "# Python Syntax\n",
    "\n",
    "# Basic syntax rules\n",
    "x = 5 # variable assignment\n",
    "y = \"Hello, World!\" # variable assignment with string value\n",
    "print(x) # print statement\n",
    "print(y) # print statement\n",
    "\n",
    "# Comments\n",
    "# This is a single line comment\n",
    "\"\"\"\n",
    "This is a\n",
    "multi-line\n",
    "comment\n",
    "\"\"\"\n",
    "\n",
    "# Statements\n",
    "if x > 3:\n",
    "    print(\"x is greater than 3\")\n",
    "else:\n",
    "    print(\"x is not greater than 3\")"
   ]
  },
  {
   "cell_type": "markdown",
   "metadata": {},
   "source": [
    "# Data Types\n",
    "An explanation of the different data types in Python, including integers, floats, booleans, strings, lists, tuples, and dictionaries, as well as the type() function."
   ]
  },
  {
   "cell_type": "code",
   "execution_count": null,
   "metadata": {},
   "outputs": [],
   "source": [
    "# Data Types\n",
    "\n",
    "# Integers\n",
    "x = 5\n",
    "print(x, type(x)) # Output: 5 <class 'int'>\n",
    "\n",
    "# Floats\n",
    "y = 3.14\n",
    "print(y, type(y)) # Output: 3.14 <class 'float'>\n",
    "\n",
    "# Booleans\n",
    "a = True\n",
    "b = False\n",
    "print(a, type(a)) # Output: True <class 'bool'>\n",
    "print(b, type(b)) # Output: False <class 'bool'>\n",
    "\n",
    "# Strings\n",
    "name = \"John\"\n",
    "print(name, type(name)) # Output: John <class 'str'>\n",
    "\n",
    "# Lists\n",
    "my_list = [1, 2, 3, \"four\", 5.0]\n",
    "print(my_list, type(my_list)) # Output: [1, 2, 3, 'four', 5.0] <class 'list'>\n",
    "\n",
    "# Tuples\n",
    "my_tuple = (1, 2, 3, \"four\", 5.0)\n",
    "print(my_tuple, type(my_tuple)) # Output: (1, 2, 3, 'four', 5.0) <class 'tuple'>\n",
    "\n",
    "# Dictionaries\n",
    "my_dict = {\"name\": \"John\", \"age\": 30, \"city\": \"New York\"}\n",
    "print(my_dict, type(my_dict)) # Output: {'name': 'John', 'age': 30, 'city': 'New York'} <class 'dict'>\n",
    "\n",
    "# Type() function\n",
    "print(type(x)) # Output: <class 'int'>\n",
    "print(type(y)) # Output: <class 'float'>\n",
    "print(type(a)) # Output: <class 'bool'>\n",
    "print(type(name)) # Output: <class 'str'>\n",
    "print(type(my_list)) # Output: <class 'list'>\n",
    "print(type(my_tuple)) # Output: <class 'tuple'>\n",
    "print(type(my_dict)) # Output: <class 'dict'>"
   ]
  },
  {
   "cell_type": "markdown",
   "metadata": {},
   "source": [
    "# Variables\n",
    "A discussion of variables in Python, including naming conventions, assigning values, reassigning values, and dynamic typing."
   ]
  },
  {
   "cell_type": "code",
   "execution_count": null,
   "metadata": {},
   "outputs": [],
   "source": [
    "# Variables\n",
    "\n",
    "# Naming conventions\n",
    "# Variable names should be descriptive and follow the snake_case convention (lowercase with underscores between words).\n",
    "# Examples:\n",
    "my_variable = 5\n",
    "my_string_variable = \"Hello, World!\"\n",
    "\n",
    "# Assigning values\n",
    "x = 5\n",
    "y = \"Hello, World!\"\n",
    "\n",
    "# Reassigning values\n",
    "x = 10\n",
    "y = \"Goodbye, World!\"\n",
    "\n",
    "# Dynamic typing\n",
    "# Python is dynamically typed, which means that the data type of a variable is determined at runtime based on the value assigned to it.\n",
    "# Example:\n",
    "z = 5\n",
    "print(z, type(z)) # Output: 5 <class 'int'>\n",
    "z = \"Hello, World!\"\n",
    "print(z, type(z)) # Output: Hello, World! <class 'str'>"
   ]
  },
  {
   "cell_type": "markdown",
   "metadata": {},
   "source": [
    "# Operators\n",
    "An overview of the different types of operators in Python, including arithmetic operators, comparison operators, and logical operators, as well as examples of using operators."
   ]
  },
  {
   "cell_type": "code",
   "execution_count": null,
   "metadata": {},
   "outputs": [],
   "source": [
    "# Operators\n",
    "\n",
    "# Arithmetic Operators\n",
    "x = 5\n",
    "y = 2\n",
    "print(x + y) # Output: 7\n",
    "print(x - y) # Output: 3\n",
    "print(x * y) # Output: 10\n",
    "print(x / y) # Output: 2.5\n",
    "print(x % y) # Output: 1\n",
    "print(x ** y) # Output: 25\n",
    "\n",
    "# Comparison Operators\n",
    "x = 5\n",
    "y = 2\n",
    "print(x == y) # Output: False\n",
    "print(x != y) # Output: True\n",
    "print(x > y) # Output: True\n",
    "print(x < y) # Output: False\n",
    "print(x >= y) # Output: True\n",
    "print(x <= y) # Output: False\n",
    "\n",
    "# Logical Operators\n",
    "x = True\n",
    "y = False\n",
    "print(x and y) # Output: False\n",
    "print(x or y) # Output: True\n",
    "print(not x) # Output: False\n",
    "\n",
    "# Examples\n",
    "x = 5\n",
    "y = 2\n",
    "z = 7\n",
    "print(x + y * z) # Output: 19\n",
    "print((x + y) * z) # Output: 49\n",
    "print(x > y and z > x) # Output: True"
   ]
  },
  {
   "cell_type": "markdown",
   "metadata": {},
   "source": [
    "# Control Structures\n",
    "A discussion of control structures in Python, including conditional statements, loops, and break and continue statements."
   ]
  },
  {
   "cell_type": "code",
   "execution_count": null,
   "metadata": {},
   "outputs": [],
   "source": [
    "# Control Structures\n",
    "\n",
    "# Conditional Statements\n",
    "x = 5\n",
    "if x > 3:\n",
    "    print(\"x is greater than 3\")\n",
    "elif x == 3:\n",
    "    print(\"x is equal to 3\")\n",
    "else:\n",
    "    print(\"x is less than 3\")\n",
    "\n",
    "# Loops\n",
    "# For loop\n",
    "my_list = [1, 2, 3, 4, 5]\n",
    "for item in my_list:\n",
    "    print(item)\n",
    "\n",
    "# While loop\n",
    "i = 0\n",
    "while i < 5:\n",
    "    print(i)\n",
    "    i += 1\n",
    "\n",
    "# Break and Continue Statements\n",
    "# Break statement\n",
    "my_list = [1, 2, 3, 4, 5]\n",
    "for item in my_list:\n",
    "    if item == 3:\n",
    "        break\n",
    "    print(item)\n",
    "\n",
    "# Continue statement\n",
    "my_list = [1, 2, 3, 4, 5]\n",
    "for item in my_list:\n",
    "    if item == 3:\n",
    "        continue\n",
    "    print(item)"
   ]
  },
  {
   "cell_type": "markdown",
   "metadata": {},
   "source": [
    "# Functions\n",
    "An overview of functions in Python, including defining functions, parameters and arguments, and return statements."
   ]
  },
  {
   "cell_type": "code",
   "execution_count": null,
   "metadata": {},
   "outputs": [],
   "source": [
    "# Functions\n",
    "\n",
    "# Defining a function\n",
    "def my_function():\n",
    "    print(\"Hello, World!\")\n",
    "\n",
    "# Calling a function\n",
    "my_function()\n",
    "\n",
    "# Function parameters\n",
    "def greet(name):\n",
    "    print(\"Hello, \" + name + \"!\")\n",
    "\n",
    "greet(\"John\")\n",
    "\n",
    "# Default parameter values\n",
    "def greet(name=\"World\"):\n",
    "    print(\"Hello, \" + name + \"!\")\n",
    "\n",
    "greet()\n",
    "greet(\"John\")\n",
    "\n",
    "# Keyword arguments\n",
    "def greet(name, greeting):\n",
    "    print(greeting + \", \" + name + \"!\")\n",
    "\n",
    "greet(name=\"John\", greeting=\"Good morning\")\n",
    "\n",
    "# Return statement\n",
    "def add_numbers(x, y):\n",
    "    return x + y\n",
    "\n",
    "result = add_numbers(5, 3)\n",
    "print(result) # Output: 8"
   ]
  },
  {
   "cell_type": "markdown",
   "metadata": {},
   "source": [
    "# Modules\n",
    "A discussion of modules in Python, including importing modules and commonly used modules."
   ]
  },
  {
   "cell_type": "code",
   "execution_count": null,
   "metadata": {},
   "outputs": [],
   "source": [
    "# Modules\n",
    "\n",
    "# Importing modules\n",
    "import math\n",
    "print(math.pi) # Output: 3.141592653589793\n",
    "\n",
    "# Importing specific functions from a module\n",
    "from math import sqrt\n",
    "print(sqrt(16)) # Output: 4.0\n",
    "\n",
    "# Commonly used modules\n",
    "import random\n",
    "print(random.randint(1, 10)) # Output: a random integer between 1 and 10\n",
    "\n",
    "import datetime\n",
    "print(datetime.datetime.now()) # Output: current date and time\n",
    "\n",
    "import os\n",
    "print(os.getcwd()) # Output: current working directory\n",
    "\n",
    "import csv\n",
    "# code for reading and writing CSV files goes here"
   ]
  },
  {
   "cell_type": "markdown",
   "metadata": {},
   "source": [
    "# Conclusion\n",
    "A brief conclusion to the markdown file."
   ]
  },
  {
   "cell_type": "code",
   "execution_count": null,
   "metadata": {},
   "outputs": [
    {
     "ename": "",
     "evalue": "",
     "output_type": "error",
     "traceback": [
      "\u001b[1;31mRunning cells with '/bin/python' requires the ipykernel package.\n",
      "\u001b[1;31mRun the following command to install 'ipykernel' into the Python environment. \n",
      "\u001b[1;31mCommand: '/bin/python -m pip install ipykernel -U --user --force-reinstall'"
     ]
    }
   ],
   "source": [
    "# Conclusion\n",
    "# Congratulations! You have completed the introduction to Python. You have learned about Python syntax, data types, variables, operators, control structures, functions, and modules. With this knowledge, you can start writing your own Python programs and exploring the vast world of Python development. Keep practicing and learning, and you will become a proficient Python programmer in no time!"
   ]
  }
 ],
 "metadata": {
  "kernelspec": {
   "display_name": "Python 3",
   "language": "python",
   "name": "python3"
  },
  "language_info": {
   "name": "python",
   "version": "3.11.5"
  },
  "orig_nbformat": 4
 },
 "nbformat": 4,
 "nbformat_minor": 2
}
